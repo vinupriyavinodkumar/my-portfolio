{
  "nbformat": 4,
  "nbformat_minor": 0,
  "metadata": {
    "colab": {
      "provenance": []
    },
    "kernelspec": {
      "name": "python3",
      "display_name": "Python 3"
    },
    "language_info": {
      "name": "python"
    }
  },
  "cells": [
    {
      "cell_type": "markdown",
      "source": [
        "# Setting Up the Database"
      ],
      "metadata": {
        "id": "CgVkaZQtl0JQ"
      }
    },
    {
      "cell_type": "markdown",
      "source": [
        "\n",
        "*   duckdb is the database we use here\n",
        "*   dbt-duckdb is a tool that is required to run dbt models on local DuckDB files"
      ],
      "metadata": {
        "id": "6-B_9bXMl-mX"
      }
    },
    {
      "cell_type": "code",
      "execution_count": null,
      "metadata": {
        "colab": {
          "base_uri": "https://localhost:8080/"
        },
        "id": "i0VHQ0bKSujg",
        "outputId": "e075585b-17b6-440a-9139-666b0b2deddd",
        "collapsed": true
      },
      "outputs": [
        {
          "output_type": "stream",
          "name": "stdout",
          "text": [
            "Requirement already satisfied: dbt-duckdb in /usr/local/lib/python3.11/dist-packages (1.9.3)\n",
            "Requirement already satisfied: duckdb in /usr/local/lib/python3.11/dist-packages (1.1.3)\n",
            "Requirement already satisfied: dbt-common<2,>=1 in /usr/local/lib/python3.11/dist-packages (from dbt-duckdb) (1.24.0)\n",
            "Requirement already satisfied: dbt-adapters<2,>=1 in /usr/local/lib/python3.11/dist-packages (from dbt-duckdb) (1.14.8)\n",
            "Requirement already satisfied: dbt-core>=1.8.0 in /usr/local/lib/python3.11/dist-packages (from dbt-duckdb) (1.9.4)\n",
            "Requirement already satisfied: agate<2.0,>=1.0 in /usr/local/lib/python3.11/dist-packages (from dbt-adapters<2,>=1->dbt-duckdb) (1.9.1)\n",
            "Requirement already satisfied: mashumaro<3.15,>=3.9 in /usr/local/lib/python3.11/dist-packages (from mashumaro[msgpack]<3.15,>=3.9->dbt-adapters<2,>=1->dbt-duckdb) (3.14)\n",
            "Requirement already satisfied: protobuf<6.0,>=5.0 in /usr/local/lib/python3.11/dist-packages (from dbt-adapters<2,>=1->dbt-duckdb) (5.29.4)\n",
            "Requirement already satisfied: pytz>=2015.7 in /usr/local/lib/python3.11/dist-packages (from dbt-adapters<2,>=1->dbt-duckdb) (2025.1)\n",
            "Requirement already satisfied: typing-extensions<5.0,>=4.0 in /usr/local/lib/python3.11/dist-packages (from dbt-adapters<2,>=1->dbt-duckdb) (4.12.2)\n",
            "Requirement already satisfied: colorama<0.5,>=0.3.9 in /usr/local/lib/python3.11/dist-packages (from dbt-common<2,>=1->dbt-duckdb) (0.4.6)\n",
            "Requirement already satisfied: deepdiff<8.0,>=7.0 in /usr/local/lib/python3.11/dist-packages (from dbt-common<2,>=1->dbt-duckdb) (7.0.1)\n",
            "Requirement already satisfied: isodate<0.7,>=0.6 in /usr/local/lib/python3.11/dist-packages (from dbt-common<2,>=1->dbt-duckdb) (0.6.1)\n",
            "Requirement already satisfied: jinja2<4,>=3.1.3 in /usr/local/lib/python3.11/dist-packages (from dbt-common<2,>=1->dbt-duckdb) (3.1.5)\n",
            "Requirement already satisfied: jsonschema<5.0,>=4.0 in /usr/local/lib/python3.11/dist-packages (from dbt-common<2,>=1->dbt-duckdb) (4.23.0)\n",
            "Requirement already satisfied: pathspec<0.13,>=0.9 in /usr/local/lib/python3.11/dist-packages (from dbt-common<2,>=1->dbt-duckdb) (0.12.1)\n",
            "Requirement already satisfied: python-dateutil<3.0,>=2.0 in /usr/local/lib/python3.11/dist-packages (from dbt-common<2,>=1->dbt-duckdb) (2.8.2)\n",
            "Requirement already satisfied: requests<3.0.0 in /usr/local/lib/python3.11/dist-packages (from dbt-common<2,>=1->dbt-duckdb) (2.32.3)\n",
            "Requirement already satisfied: click<9.0,>=8.0.2 in /usr/local/lib/python3.11/dist-packages (from dbt-core>=1.8.0->dbt-duckdb) (8.1.8)\n",
            "Requirement already satisfied: networkx<4.0,>=2.3 in /usr/local/lib/python3.11/dist-packages (from dbt-core>=1.8.0->dbt-duckdb) (3.4.2)\n",
            "Requirement already satisfied: snowplow-tracker<2.0,>=1.0.2 in /usr/local/lib/python3.11/dist-packages (from dbt-core>=1.8.0->dbt-duckdb) (1.1.0)\n",
            "Requirement already satisfied: sqlparse<0.6.0,>=0.5.0 in /usr/local/lib/python3.11/dist-packages (from dbt-core>=1.8.0->dbt-duckdb) (0.5.3)\n",
            "Requirement already satisfied: dbt-extractor<=0.6,>=0.5.0 in /usr/local/lib/python3.11/dist-packages (from dbt-core>=1.8.0->dbt-duckdb) (0.6.0)\n",
            "Requirement already satisfied: dbt-semantic-interfaces<0.8,>=0.7.4 in /usr/local/lib/python3.11/dist-packages (from dbt-core>=1.8.0->dbt-duckdb) (0.7.4)\n",
            "Requirement already satisfied: packaging>20.9 in /usr/local/lib/python3.11/dist-packages (from dbt-core>=1.8.0->dbt-duckdb) (24.2)\n",
            "Requirement already satisfied: pyyaml>=6.0 in /usr/local/lib/python3.11/dist-packages (from dbt-core>=1.8.0->dbt-duckdb) (6.0.2)\n",
            "Requirement already satisfied: daff>=1.3.46 in /usr/local/lib/python3.11/dist-packages (from dbt-core>=1.8.0->dbt-duckdb) (1.4.2)\n",
            "Requirement already satisfied: Babel>=2.0 in /usr/local/lib/python3.11/dist-packages (from agate<2.0,>=1.0->dbt-adapters<2,>=1->dbt-duckdb) (2.17.0)\n",
            "Requirement already satisfied: leather>=0.3.2 in /usr/local/lib/python3.11/dist-packages (from agate<2.0,>=1.0->dbt-adapters<2,>=1->dbt-duckdb) (0.4.0)\n",
            "Requirement already satisfied: parsedatetime!=2.5,>=2.1 in /usr/local/lib/python3.11/dist-packages (from agate<2.0,>=1.0->dbt-adapters<2,>=1->dbt-duckdb) (2.6)\n",
            "Requirement already satisfied: python-slugify>=1.2.1 in /usr/local/lib/python3.11/dist-packages (from agate<2.0,>=1.0->dbt-adapters<2,>=1->dbt-duckdb) (8.0.4)\n",
            "Requirement already satisfied: pytimeparse>=1.1.5 in /usr/local/lib/python3.11/dist-packages (from agate<2.0,>=1.0->dbt-adapters<2,>=1->dbt-duckdb) (1.1.8)\n",
            "Requirement already satisfied: importlib-metadata<7,>=6.0 in /usr/local/lib/python3.11/dist-packages (from dbt-semantic-interfaces<0.8,>=0.7.4->dbt-core>=1.8.0->dbt-duckdb) (6.11.0)\n",
            "Requirement already satisfied: more-itertools<11.0,>=8.0 in /usr/local/lib/python3.11/dist-packages (from dbt-semantic-interfaces<0.8,>=0.7.4->dbt-core>=1.8.0->dbt-duckdb) (10.6.0)\n",
            "Requirement already satisfied: pydantic<3,>=1.10 in /usr/local/lib/python3.11/dist-packages (from dbt-semantic-interfaces<0.8,>=0.7.4->dbt-core>=1.8.0->dbt-duckdb) (2.10.6)\n",
            "Requirement already satisfied: ordered-set<4.2.0,>=4.1.0 in /usr/local/lib/python3.11/dist-packages (from deepdiff<8.0,>=7.0->dbt-common<2,>=1->dbt-duckdb) (4.1.0)\n",
            "Requirement already satisfied: six in /usr/local/lib/python3.11/dist-packages (from isodate<0.7,>=0.6->dbt-common<2,>=1->dbt-duckdb) (1.17.0)\n",
            "Requirement already satisfied: MarkupSafe>=2.0 in /usr/local/lib/python3.11/dist-packages (from jinja2<4,>=3.1.3->dbt-common<2,>=1->dbt-duckdb) (3.0.2)\n",
            "Requirement already satisfied: attrs>=22.2.0 in /usr/local/lib/python3.11/dist-packages (from jsonschema<5.0,>=4.0->dbt-common<2,>=1->dbt-duckdb) (25.1.0)\n",
            "Requirement already satisfied: jsonschema-specifications>=2023.03.6 in /usr/local/lib/python3.11/dist-packages (from jsonschema<5.0,>=4.0->dbt-common<2,>=1->dbt-duckdb) (2024.10.1)\n",
            "Requirement already satisfied: referencing>=0.28.4 in /usr/local/lib/python3.11/dist-packages (from jsonschema<5.0,>=4.0->dbt-common<2,>=1->dbt-duckdb) (0.36.2)\n",
            "Requirement already satisfied: rpds-py>=0.7.1 in /usr/local/lib/python3.11/dist-packages (from jsonschema<5.0,>=4.0->dbt-common<2,>=1->dbt-duckdb) (0.23.1)\n",
            "Requirement already satisfied: msgpack>=0.5.6 in /usr/local/lib/python3.11/dist-packages (from mashumaro[msgpack]<3.15,>=3.9->dbt-adapters<2,>=1->dbt-duckdb) (1.1.0)\n",
            "Requirement already satisfied: charset-normalizer<4,>=2 in /usr/local/lib/python3.11/dist-packages (from requests<3.0.0->dbt-common<2,>=1->dbt-duckdb) (3.4.1)\n",
            "Requirement already satisfied: idna<4,>=2.5 in /usr/local/lib/python3.11/dist-packages (from requests<3.0.0->dbt-common<2,>=1->dbt-duckdb) (3.10)\n",
            "Requirement already satisfied: urllib3<3,>=1.21.1 in /usr/local/lib/python3.11/dist-packages (from requests<3.0.0->dbt-common<2,>=1->dbt-duckdb) (2.3.0)\n",
            "Requirement already satisfied: certifi>=2017.4.17 in /usr/local/lib/python3.11/dist-packages (from requests<3.0.0->dbt-common<2,>=1->dbt-duckdb) (2025.1.31)\n",
            "Requirement already satisfied: zipp>=0.5 in /usr/local/lib/python3.11/dist-packages (from importlib-metadata<7,>=6.0->dbt-semantic-interfaces<0.8,>=0.7.4->dbt-core>=1.8.0->dbt-duckdb) (3.21.0)\n",
            "Requirement already satisfied: annotated-types>=0.6.0 in /usr/local/lib/python3.11/dist-packages (from pydantic<3,>=1.10->dbt-semantic-interfaces<0.8,>=0.7.4->dbt-core>=1.8.0->dbt-duckdb) (0.7.0)\n",
            "Requirement already satisfied: pydantic-core==2.27.2 in /usr/local/lib/python3.11/dist-packages (from pydantic<3,>=1.10->dbt-semantic-interfaces<0.8,>=0.7.4->dbt-core>=1.8.0->dbt-duckdb) (2.27.2)\n",
            "Requirement already satisfied: text-unidecode>=1.3 in /usr/local/lib/python3.11/dist-packages (from python-slugify>=1.2.1->agate<2.0,>=1.0->dbt-adapters<2,>=1->dbt-duckdb) (1.3)\n"
          ]
        }
      ],
      "source": [
        "# Install dbt and DuckDB\n",
        "%pip install dbt-duckdb duckdb"
      ]
    },
    {
      "cell_type": "code",
      "source": [
        "# Create main project folder\n",
        "!mkdir -p /content/my_dbt_project/models"
      ],
      "metadata": {
        "id": "ccZi_gysS79h"
      },
      "execution_count": null,
      "outputs": []
    },
    {
      "cell_type": "code",
      "source": [
        "# Move into it\n",
        "%cd /content/my_dbt_project"
      ],
      "metadata": {
        "colab": {
          "base_uri": "https://localhost:8080/"
        },
        "id": "TJrXqpQxIMOZ",
        "outputId": "538e2f0b-bbca-41f6-ff7a-23b54cd8afc6"
      },
      "execution_count": null,
      "outputs": [
        {
          "output_type": "stream",
          "name": "stdout",
          "text": [
            "/content/my_dbt_project\n"
          ]
        }
      ]
    },
    {
      "cell_type": "markdown",
      "source": [
        "Set up **dbt Configuration** telling how to connect to database\n",
        "\n",
        "\n",
        "*   *profiles.yml* contains all the connection details\n",
        "\n"
      ],
      "metadata": {
        "id": "vrEJexRTnfmc"
      }
    },
    {
      "cell_type": "code",
      "source": [
        "profile_content = \"\"\"\n",
        "my_dbt_project:\n",
        "  target: dev\n",
        "  outputs:\n",
        "    dev:\n",
        "      type: duckdb\n",
        "      path: /content/my_dbt_project/my_duckdb.duckdb\n",
        "\"\"\"\n",
        "\n",
        "# Create the .dbt directory in the root\n",
        "!mkdir -p /root/.dbt\n",
        "\n",
        "with open(\"/root/.dbt/profiles.yml\", \"w\") as f:\n",
        "    f.write(profile_content)"
      ],
      "metadata": {
        "id": "MxwdQIzNWwHh"
      },
      "execution_count": null,
      "outputs": []
    },
    {
      "cell_type": "markdown",
      "source": [
        "Setting up the **main configuration** file for your dbt project, called *dbt_project.yml*"
      ],
      "metadata": {
        "id": "cVD-9MdwoDfc"
      }
    },
    {
      "cell_type": "code",
      "source": [
        "dbt_project_content = \"\"\"\n",
        "name: 'my_dbt_project'\n",
        "version: '1.0'\n",
        "config-version: 2\n",
        "\n",
        "profile: 'my_dbt_project'\n",
        "\n",
        "model-paths: [\"models\"]\n",
        "target-path: \"target\"\n",
        "clean-targets:\n",
        "  - \"target\"\n",
        "  - \"dbt_modules\"\n",
        "\"\"\"\n",
        "\n",
        "with open(\"/content/my_dbt_project/dbt_project.yml\", \"w\") as f:\n",
        "    f.write(dbt_project_content)"
      ],
      "metadata": {
        "id": "5Z2bd6X-JD37"
      },
      "execution_count": null,
      "outputs": []
    },
    {
      "cell_type": "markdown",
      "source": [
        "📁 Create the models/ folder and write a model (order_summary.sql)\n",
        "\n",
        "🧾 Create the CSV file (orders.csv)\n",
        "\n",
        "🛠️ Load the CSV into DuckDB (raw_orders)\n",
        "\n",
        "▶️ Run dbt run to build the model"
      ],
      "metadata": {
        "id": "c0oahGwMbbjq"
      }
    },
    {
      "cell_type": "markdown",
      "source": [
        "### 1️⃣ Upload CSV Files to Google Colab\n"
      ],
      "metadata": {
        "id": "OERHnsFQfBvz"
      }
    },
    {
      "cell_type": "code",
      "source": [
        "from google.colab import files\n",
        "uploaded = files.upload()"
      ],
      "metadata": {
        "colab": {
          "base_uri": "https://localhost:8080/",
          "height": 108
        },
        "id": "lTr64kFufJI9",
        "outputId": "e84efbc8-bd91-4961-c8cf-5925989359b8"
      },
      "execution_count": null,
      "outputs": [
        {
          "output_type": "display_data",
          "data": {
            "text/plain": [
              "<IPython.core.display.HTML object>"
            ],
            "text/html": [
              "\n",
              "     <input type=\"file\" id=\"files-716991bf-d27a-4a33-adde-4e70924de489\" name=\"files[]\" multiple disabled\n",
              "        style=\"border:none\" />\n",
              "     <output id=\"result-716991bf-d27a-4a33-adde-4e70924de489\">\n",
              "      Upload widget is only available when the cell has been executed in the\n",
              "      current browser session. Please rerun this cell to enable.\n",
              "      </output>\n",
              "      <script>// Copyright 2017 Google LLC\n",
              "//\n",
              "// Licensed under the Apache License, Version 2.0 (the \"License\");\n",
              "// you may not use this file except in compliance with the License.\n",
              "// You may obtain a copy of the License at\n",
              "//\n",
              "//      http://www.apache.org/licenses/LICENSE-2.0\n",
              "//\n",
              "// Unless required by applicable law or agreed to in writing, software\n",
              "// distributed under the License is distributed on an \"AS IS\" BASIS,\n",
              "// WITHOUT WARRANTIES OR CONDITIONS OF ANY KIND, either express or implied.\n",
              "// See the License for the specific language governing permissions and\n",
              "// limitations under the License.\n",
              "\n",
              "/**\n",
              " * @fileoverview Helpers for google.colab Python module.\n",
              " */\n",
              "(function(scope) {\n",
              "function span(text, styleAttributes = {}) {\n",
              "  const element = document.createElement('span');\n",
              "  element.textContent = text;\n",
              "  for (const key of Object.keys(styleAttributes)) {\n",
              "    element.style[key] = styleAttributes[key];\n",
              "  }\n",
              "  return element;\n",
              "}\n",
              "\n",
              "// Max number of bytes which will be uploaded at a time.\n",
              "const MAX_PAYLOAD_SIZE = 100 * 1024;\n",
              "\n",
              "function _uploadFiles(inputId, outputId) {\n",
              "  const steps = uploadFilesStep(inputId, outputId);\n",
              "  const outputElement = document.getElementById(outputId);\n",
              "  // Cache steps on the outputElement to make it available for the next call\n",
              "  // to uploadFilesContinue from Python.\n",
              "  outputElement.steps = steps;\n",
              "\n",
              "  return _uploadFilesContinue(outputId);\n",
              "}\n",
              "\n",
              "// This is roughly an async generator (not supported in the browser yet),\n",
              "// where there are multiple asynchronous steps and the Python side is going\n",
              "// to poll for completion of each step.\n",
              "// This uses a Promise to block the python side on completion of each step,\n",
              "// then passes the result of the previous step as the input to the next step.\n",
              "function _uploadFilesContinue(outputId) {\n",
              "  const outputElement = document.getElementById(outputId);\n",
              "  const steps = outputElement.steps;\n",
              "\n",
              "  const next = steps.next(outputElement.lastPromiseValue);\n",
              "  return Promise.resolve(next.value.promise).then((value) => {\n",
              "    // Cache the last promise value to make it available to the next\n",
              "    // step of the generator.\n",
              "    outputElement.lastPromiseValue = value;\n",
              "    return next.value.response;\n",
              "  });\n",
              "}\n",
              "\n",
              "/**\n",
              " * Generator function which is called between each async step of the upload\n",
              " * process.\n",
              " * @param {string} inputId Element ID of the input file picker element.\n",
              " * @param {string} outputId Element ID of the output display.\n",
              " * @return {!Iterable<!Object>} Iterable of next steps.\n",
              " */\n",
              "function* uploadFilesStep(inputId, outputId) {\n",
              "  const inputElement = document.getElementById(inputId);\n",
              "  inputElement.disabled = false;\n",
              "\n",
              "  const outputElement = document.getElementById(outputId);\n",
              "  outputElement.innerHTML = '';\n",
              "\n",
              "  const pickedPromise = new Promise((resolve) => {\n",
              "    inputElement.addEventListener('change', (e) => {\n",
              "      resolve(e.target.files);\n",
              "    });\n",
              "  });\n",
              "\n",
              "  const cancel = document.createElement('button');\n",
              "  inputElement.parentElement.appendChild(cancel);\n",
              "  cancel.textContent = 'Cancel upload';\n",
              "  const cancelPromise = new Promise((resolve) => {\n",
              "    cancel.onclick = () => {\n",
              "      resolve(null);\n",
              "    };\n",
              "  });\n",
              "\n",
              "  // Wait for the user to pick the files.\n",
              "  const files = yield {\n",
              "    promise: Promise.race([pickedPromise, cancelPromise]),\n",
              "    response: {\n",
              "      action: 'starting',\n",
              "    }\n",
              "  };\n",
              "\n",
              "  cancel.remove();\n",
              "\n",
              "  // Disable the input element since further picks are not allowed.\n",
              "  inputElement.disabled = true;\n",
              "\n",
              "  if (!files) {\n",
              "    return {\n",
              "      response: {\n",
              "        action: 'complete',\n",
              "      }\n",
              "    };\n",
              "  }\n",
              "\n",
              "  for (const file of files) {\n",
              "    const li = document.createElement('li');\n",
              "    li.append(span(file.name, {fontWeight: 'bold'}));\n",
              "    li.append(span(\n",
              "        `(${file.type || 'n/a'}) - ${file.size} bytes, ` +\n",
              "        `last modified: ${\n",
              "            file.lastModifiedDate ? file.lastModifiedDate.toLocaleDateString() :\n",
              "                                    'n/a'} - `));\n",
              "    const percent = span('0% done');\n",
              "    li.appendChild(percent);\n",
              "\n",
              "    outputElement.appendChild(li);\n",
              "\n",
              "    const fileDataPromise = new Promise((resolve) => {\n",
              "      const reader = new FileReader();\n",
              "      reader.onload = (e) => {\n",
              "        resolve(e.target.result);\n",
              "      };\n",
              "      reader.readAsArrayBuffer(file);\n",
              "    });\n",
              "    // Wait for the data to be ready.\n",
              "    let fileData = yield {\n",
              "      promise: fileDataPromise,\n",
              "      response: {\n",
              "        action: 'continue',\n",
              "      }\n",
              "    };\n",
              "\n",
              "    // Use a chunked sending to avoid message size limits. See b/62115660.\n",
              "    let position = 0;\n",
              "    do {\n",
              "      const length = Math.min(fileData.byteLength - position, MAX_PAYLOAD_SIZE);\n",
              "      const chunk = new Uint8Array(fileData, position, length);\n",
              "      position += length;\n",
              "\n",
              "      const base64 = btoa(String.fromCharCode.apply(null, chunk));\n",
              "      yield {\n",
              "        response: {\n",
              "          action: 'append',\n",
              "          file: file.name,\n",
              "          data: base64,\n",
              "        },\n",
              "      };\n",
              "\n",
              "      let percentDone = fileData.byteLength === 0 ?\n",
              "          100 :\n",
              "          Math.round((position / fileData.byteLength) * 100);\n",
              "      percent.textContent = `${percentDone}% done`;\n",
              "\n",
              "    } while (position < fileData.byteLength);\n",
              "  }\n",
              "\n",
              "  // All done.\n",
              "  yield {\n",
              "    response: {\n",
              "      action: 'complete',\n",
              "    }\n",
              "  };\n",
              "}\n",
              "\n",
              "scope.google = scope.google || {};\n",
              "scope.google.colab = scope.google.colab || {};\n",
              "scope.google.colab._files = {\n",
              "  _uploadFiles,\n",
              "  _uploadFilesContinue,\n",
              "};\n",
              "})(self);\n",
              "</script> "
            ]
          },
          "metadata": {}
        },
        {
          "output_type": "stream",
          "name": "stdout",
          "text": [
            "Saving orders.csv to orders (1).csv\n",
            "Saving products.csv to products (1).csv\n"
          ]
        }
      ]
    },
    {
      "cell_type": "markdown",
      "source": [
        "### 2️⃣ Load CSV Files into DuckDB `"
      ],
      "metadata": {
        "id": "a7n8bavpfa3k"
      }
    },
    {
      "cell_type": "code",
      "source": [
        "import duckdb\n",
        "\n",
        "# Connect to DuckDB\n",
        "con = duckdb.connect(\"/content/my_dbt_project/my_duckdb.duckdb\")\n",
        "\n",
        "# Create tables from CSV files\n",
        "con.execute(\"CREATE OR REPLACE TABLE raw_orders AS SELECT * FROM read_csv_auto('/content/my_dbt_project/orders.csv')\")\n",
        "con.execute(\"CREATE OR REPLACE TABLE raw_products AS SELECT * FROM read_csv_auto('/content/my_dbt_project/products.csv')\")\n",
        "\n",
        "print(\"Tables loaded into DuckDB\")"
      ],
      "metadata": {
        "id": "cJ3AjWbNfwzn",
        "colab": {
          "base_uri": "https://localhost:8080/"
        },
        "outputId": "170d2668-bc28-4cf7-9f53-0eb921a5040b"
      },
      "execution_count": null,
      "outputs": [
        {
          "output_type": "stream",
          "name": "stdout",
          "text": [
            "Tables loaded into DuckDB\n"
          ]
        }
      ]
    },
    {
      "cell_type": "markdown",
      "source": [
        "This will create two tables in DuckDB:\n",
        "\n",
        "*   raw_orders (from orders.csv)\n",
        "*   raw_products (from products.csv)"
      ],
      "metadata": {
        "id": "W6B3h_cqf-C_"
      }
    },
    {
      "cell_type": "markdown",
      "source": [
        "### 3️⃣ Create Your First dbt Model"
      ],
      "metadata": {
        "id": "6iRdYWKkz6IW"
      }
    },
    {
      "cell_type": "code",
      "source": [
        "model_sql = \"\"\"\n",
        "SELECT\n",
        "    o.order_id,\n",
        "    o.customer_id,\n",
        "    o.order_date,\n",
        "    o.quantity,\n",
        "    o.unit_price AS order_unit_price,\n",
        "    p.product_name,\n",
        "    p.category,\n",
        "    p.unit_price AS product_unit_price,\n",
        "    (o.quantity * o.unit_price) AS total_order_price\n",
        "FROM\n",
        "    raw_orders o\n",
        "JOIN\n",
        "    raw_products p\n",
        "ON\n",
        "    o.product_id = p.product_id\n",
        "\"\"\"\n",
        "\n",
        "with open(\"/content/my_dbt_project/models/orders_with_products.sql\", \"w\") as f:\n",
        "    f.write(model_sql)\n"
      ],
      "metadata": {
        "id": "v8RjjITy2aOP"
      },
      "execution_count": null,
      "outputs": []
    },
    {
      "cell_type": "code",
      "source": [
        "con.close()"
      ],
      "metadata": {
        "id": "5LiKr2QhKR7j"
      },
      "execution_count": null,
      "outputs": []
    },
    {
      "cell_type": "markdown",
      "source": [
        "Executing dbt Models with dbt run"
      ],
      "metadata": {
        "id": "y14m00syz3gI"
      }
    },
    {
      "cell_type": "code",
      "source": [
        "%cd /content/my_dbt_project\n",
        "!dbt run"
      ],
      "metadata": {
        "colab": {
          "base_uri": "https://localhost:8080/"
        },
        "id": "WtuW6q5IBArH",
        "outputId": "2aac3ca4-4731-431e-85a1-3f7bca5b91be"
      },
      "execution_count": null,
      "outputs": [
        {
          "output_type": "stream",
          "name": "stdout",
          "text": [
            "/content/my_dbt_project\n",
            "\u001b[0m14:15:08  Running with dbt=1.9.4\n",
            "\u001b[0m14:15:09  Registered adapter: duckdb=1.9.3\n",
            "\u001b[0m14:15:09  Found 1 model, 428 macros\n",
            "\u001b[0m14:15:09  \n",
            "\u001b[0m14:15:09  Concurrency: 1 threads (target='dev')\n",
            "\u001b[0m14:15:09  \n",
            "\u001b[0m14:15:09  1 of 1 START sql view model main.orders_with_products .......................... [RUN]\n",
            "\u001b[0m14:15:10  1 of 1 OK created sql view model main.orders_with_products ..................... [\u001b[32mOK\u001b[0m in 0.14s]\n",
            "\u001b[0m14:15:10  \n",
            "\u001b[0m14:15:10  Finished running 1 view model in 0 hours 0 minutes and 0.32 seconds (0.32s).\n",
            "\u001b[0m14:15:10  \n",
            "\u001b[0m14:15:10  \u001b[32mCompleted successfully\u001b[0m\n",
            "\u001b[0m14:15:10  \n",
            "\u001b[0m14:15:10  Done. PASS=1 WARN=0 ERROR=0 SKIP=0 TOTAL=1\n"
          ]
        }
      ]
    },
    {
      "cell_type": "markdown",
      "source": [
        "Query dbt-Created View Using DuckDB SQL in Python"
      ],
      "metadata": {
        "id": "BfInfpjY0I1s"
      }
    },
    {
      "cell_type": "code",
      "source": [
        "# Reconnect to DuckDB if needed\n",
        "con = duckdb.connect(\"/content/my_dbt_project/my_duckdb.duckdb\")\n",
        "\n",
        "# Query the new model output\n",
        "result = con.execute(\"SELECT * FROM orders_with_products\").fetchall()\n",
        "print(result)"
      ],
      "metadata": {
        "colab": {
          "base_uri": "https://localhost:8080/"
        },
        "id": "G1cdIEetKimh",
        "outputId": "02781df4-cece-4053-f02b-e34e7a191736"
      },
      "execution_count": null,
      "outputs": [
        {
          "output_type": "stream",
          "name": "stdout",
          "text": [
            "[(1, 'C001', datetime.date(2023, 8, 1), 2, 19.99, 'Wireless Mouse', 'Electronics', 19.99, 39.98), (2, 'C002', datetime.date(2023, 8, 3), 1, 149.99, 'Gaming Headset', 'Electronics', 149.99, 149.99), (3, 'C001', datetime.date(2023, 8, 4), 3, 9.99, 'Keyboard', 'Electronics', 9.99, 29.97), (4, 'C003', datetime.date(2023, 8, 5), 5, 19.99, 'Wireless Mouse', 'Electronics', 19.99, 99.94999999999999), (5, 'C002', datetime.date(2023, 8, 6), 2, 9.99, 'Keyboard', 'Electronics', 9.99, 19.98), (6, 'C004', datetime.date(2023, 8, 6), 1, 249.99, '4K Monitor', 'Electronics', 249.99, 249.99)]\n"
          ]
        }
      ]
    },
    {
      "cell_type": "markdown",
      "source": [
        "Fetch dbt-Transformed Data as a DataFrame Using DuckDB and Pandas"
      ],
      "metadata": {
        "id": "_hNThWEb0d1g"
      }
    },
    {
      "cell_type": "code",
      "source": [
        "import duckdb\n",
        "import pandas as pd\n",
        "\n",
        "# Reconnect to the DuckDB database\n",
        "con = duckdb.connect(\"/content/my_dbt_project/my_duckdb.duckdb\")\n",
        "\n",
        "# Run the query and load the results into a DataFrame\n",
        "df = con.execute(\"SELECT * FROM orders_with_products\").fetchdf()\n",
        "\n",
        "# Show the table\n",
        "df.head()  # Show first 5 rows (or just use df to show all)"
      ],
      "metadata": {
        "colab": {
          "base_uri": "https://localhost:8080/",
          "height": 206
        },
        "id": "0epSduEwKu-B",
        "outputId": "37756dca-52e4-4c94-bd13-3f25af30b06f"
      },
      "execution_count": null,
      "outputs": [
        {
          "output_type": "execute_result",
          "data": {
            "text/plain": [
              "   order_id customer_id order_date  quantity  order_unit_price  \\\n",
              "0         1        C001 2023-08-01         2             19.99   \n",
              "1         2        C002 2023-08-03         1            149.99   \n",
              "2         3        C001 2023-08-04         3              9.99   \n",
              "3         4        C003 2023-08-05         5             19.99   \n",
              "4         5        C002 2023-08-06         2              9.99   \n",
              "\n",
              "     product_name     category  product_unit_price  total_order_price  \n",
              "0  Wireless Mouse  Electronics               19.99              39.98  \n",
              "1  Gaming Headset  Electronics              149.99             149.99  \n",
              "2        Keyboard  Electronics                9.99              29.97  \n",
              "3  Wireless Mouse  Electronics               19.99              99.95  \n",
              "4        Keyboard  Electronics                9.99              19.98  "
            ],
            "text/html": [
              "\n",
              "  <div id=\"df-7015c912-52ad-43ff-9820-1c233ec094fc\" class=\"colab-df-container\">\n",
              "    <div>\n",
              "<style scoped>\n",
              "    .dataframe tbody tr th:only-of-type {\n",
              "        vertical-align: middle;\n",
              "    }\n",
              "\n",
              "    .dataframe tbody tr th {\n",
              "        vertical-align: top;\n",
              "    }\n",
              "\n",
              "    .dataframe thead th {\n",
              "        text-align: right;\n",
              "    }\n",
              "</style>\n",
              "<table border=\"1\" class=\"dataframe\">\n",
              "  <thead>\n",
              "    <tr style=\"text-align: right;\">\n",
              "      <th></th>\n",
              "      <th>order_id</th>\n",
              "      <th>customer_id</th>\n",
              "      <th>order_date</th>\n",
              "      <th>quantity</th>\n",
              "      <th>order_unit_price</th>\n",
              "      <th>product_name</th>\n",
              "      <th>category</th>\n",
              "      <th>product_unit_price</th>\n",
              "      <th>total_order_price</th>\n",
              "    </tr>\n",
              "  </thead>\n",
              "  <tbody>\n",
              "    <tr>\n",
              "      <th>0</th>\n",
              "      <td>1</td>\n",
              "      <td>C001</td>\n",
              "      <td>2023-08-01</td>\n",
              "      <td>2</td>\n",
              "      <td>19.99</td>\n",
              "      <td>Wireless Mouse</td>\n",
              "      <td>Electronics</td>\n",
              "      <td>19.99</td>\n",
              "      <td>39.98</td>\n",
              "    </tr>\n",
              "    <tr>\n",
              "      <th>1</th>\n",
              "      <td>2</td>\n",
              "      <td>C002</td>\n",
              "      <td>2023-08-03</td>\n",
              "      <td>1</td>\n",
              "      <td>149.99</td>\n",
              "      <td>Gaming Headset</td>\n",
              "      <td>Electronics</td>\n",
              "      <td>149.99</td>\n",
              "      <td>149.99</td>\n",
              "    </tr>\n",
              "    <tr>\n",
              "      <th>2</th>\n",
              "      <td>3</td>\n",
              "      <td>C001</td>\n",
              "      <td>2023-08-04</td>\n",
              "      <td>3</td>\n",
              "      <td>9.99</td>\n",
              "      <td>Keyboard</td>\n",
              "      <td>Electronics</td>\n",
              "      <td>9.99</td>\n",
              "      <td>29.97</td>\n",
              "    </tr>\n",
              "    <tr>\n",
              "      <th>3</th>\n",
              "      <td>4</td>\n",
              "      <td>C003</td>\n",
              "      <td>2023-08-05</td>\n",
              "      <td>5</td>\n",
              "      <td>19.99</td>\n",
              "      <td>Wireless Mouse</td>\n",
              "      <td>Electronics</td>\n",
              "      <td>19.99</td>\n",
              "      <td>99.95</td>\n",
              "    </tr>\n",
              "    <tr>\n",
              "      <th>4</th>\n",
              "      <td>5</td>\n",
              "      <td>C002</td>\n",
              "      <td>2023-08-06</td>\n",
              "      <td>2</td>\n",
              "      <td>9.99</td>\n",
              "      <td>Keyboard</td>\n",
              "      <td>Electronics</td>\n",
              "      <td>9.99</td>\n",
              "      <td>19.98</td>\n",
              "    </tr>\n",
              "  </tbody>\n",
              "</table>\n",
              "</div>\n",
              "    <div class=\"colab-df-buttons\">\n",
              "\n",
              "  <div class=\"colab-df-container\">\n",
              "    <button class=\"colab-df-convert\" onclick=\"convertToInteractive('df-7015c912-52ad-43ff-9820-1c233ec094fc')\"\n",
              "            title=\"Convert this dataframe to an interactive table.\"\n",
              "            style=\"display:none;\">\n",
              "\n",
              "  <svg xmlns=\"http://www.w3.org/2000/svg\" height=\"24px\" viewBox=\"0 -960 960 960\">\n",
              "    <path d=\"M120-120v-720h720v720H120Zm60-500h600v-160H180v160Zm220 220h160v-160H400v160Zm0 220h160v-160H400v160ZM180-400h160v-160H180v160Zm440 0h160v-160H620v160ZM180-180h160v-160H180v160Zm440 0h160v-160H620v160Z\"/>\n",
              "  </svg>\n",
              "    </button>\n",
              "\n",
              "  <style>\n",
              "    .colab-df-container {\n",
              "      display:flex;\n",
              "      gap: 12px;\n",
              "    }\n",
              "\n",
              "    .colab-df-convert {\n",
              "      background-color: #E8F0FE;\n",
              "      border: none;\n",
              "      border-radius: 50%;\n",
              "      cursor: pointer;\n",
              "      display: none;\n",
              "      fill: #1967D2;\n",
              "      height: 32px;\n",
              "      padding: 0 0 0 0;\n",
              "      width: 32px;\n",
              "    }\n",
              "\n",
              "    .colab-df-convert:hover {\n",
              "      background-color: #E2EBFA;\n",
              "      box-shadow: 0px 1px 2px rgba(60, 64, 67, 0.3), 0px 1px 3px 1px rgba(60, 64, 67, 0.15);\n",
              "      fill: #174EA6;\n",
              "    }\n",
              "\n",
              "    .colab-df-buttons div {\n",
              "      margin-bottom: 4px;\n",
              "    }\n",
              "\n",
              "    [theme=dark] .colab-df-convert {\n",
              "      background-color: #3B4455;\n",
              "      fill: #D2E3FC;\n",
              "    }\n",
              "\n",
              "    [theme=dark] .colab-df-convert:hover {\n",
              "      background-color: #434B5C;\n",
              "      box-shadow: 0px 1px 3px 1px rgba(0, 0, 0, 0.15);\n",
              "      filter: drop-shadow(0px 1px 2px rgba(0, 0, 0, 0.3));\n",
              "      fill: #FFFFFF;\n",
              "    }\n",
              "  </style>\n",
              "\n",
              "    <script>\n",
              "      const buttonEl =\n",
              "        document.querySelector('#df-7015c912-52ad-43ff-9820-1c233ec094fc button.colab-df-convert');\n",
              "      buttonEl.style.display =\n",
              "        google.colab.kernel.accessAllowed ? 'block' : 'none';\n",
              "\n",
              "      async function convertToInteractive(key) {\n",
              "        const element = document.querySelector('#df-7015c912-52ad-43ff-9820-1c233ec094fc');\n",
              "        const dataTable =\n",
              "          await google.colab.kernel.invokeFunction('convertToInteractive',\n",
              "                                                    [key], {});\n",
              "        if (!dataTable) return;\n",
              "\n",
              "        const docLinkHtml = 'Like what you see? Visit the ' +\n",
              "          '<a target=\"_blank\" href=https://colab.research.google.com/notebooks/data_table.ipynb>data table notebook</a>'\n",
              "          + ' to learn more about interactive tables.';\n",
              "        element.innerHTML = '';\n",
              "        dataTable['output_type'] = 'display_data';\n",
              "        await google.colab.output.renderOutput(dataTable, element);\n",
              "        const docLink = document.createElement('div');\n",
              "        docLink.innerHTML = docLinkHtml;\n",
              "        element.appendChild(docLink);\n",
              "      }\n",
              "    </script>\n",
              "  </div>\n",
              "\n",
              "\n",
              "<div id=\"df-2a161f35-9a22-4c16-96f8-bba2ac8370d4\">\n",
              "  <button class=\"colab-df-quickchart\" onclick=\"quickchart('df-2a161f35-9a22-4c16-96f8-bba2ac8370d4')\"\n",
              "            title=\"Suggest charts\"\n",
              "            style=\"display:none;\">\n",
              "\n",
              "<svg xmlns=\"http://www.w3.org/2000/svg\" height=\"24px\"viewBox=\"0 0 24 24\"\n",
              "     width=\"24px\">\n",
              "    <g>\n",
              "        <path d=\"M19 3H5c-1.1 0-2 .9-2 2v14c0 1.1.9 2 2 2h14c1.1 0 2-.9 2-2V5c0-1.1-.9-2-2-2zM9 17H7v-7h2v7zm4 0h-2V7h2v10zm4 0h-2v-4h2v4z\"/>\n",
              "    </g>\n",
              "</svg>\n",
              "  </button>\n",
              "\n",
              "<style>\n",
              "  .colab-df-quickchart {\n",
              "      --bg-color: #E8F0FE;\n",
              "      --fill-color: #1967D2;\n",
              "      --hover-bg-color: #E2EBFA;\n",
              "      --hover-fill-color: #174EA6;\n",
              "      --disabled-fill-color: #AAA;\n",
              "      --disabled-bg-color: #DDD;\n",
              "  }\n",
              "\n",
              "  [theme=dark] .colab-df-quickchart {\n",
              "      --bg-color: #3B4455;\n",
              "      --fill-color: #D2E3FC;\n",
              "      --hover-bg-color: #434B5C;\n",
              "      --hover-fill-color: #FFFFFF;\n",
              "      --disabled-bg-color: #3B4455;\n",
              "      --disabled-fill-color: #666;\n",
              "  }\n",
              "\n",
              "  .colab-df-quickchart {\n",
              "    background-color: var(--bg-color);\n",
              "    border: none;\n",
              "    border-radius: 50%;\n",
              "    cursor: pointer;\n",
              "    display: none;\n",
              "    fill: var(--fill-color);\n",
              "    height: 32px;\n",
              "    padding: 0;\n",
              "    width: 32px;\n",
              "  }\n",
              "\n",
              "  .colab-df-quickchart:hover {\n",
              "    background-color: var(--hover-bg-color);\n",
              "    box-shadow: 0 1px 2px rgba(60, 64, 67, 0.3), 0 1px 3px 1px rgba(60, 64, 67, 0.15);\n",
              "    fill: var(--button-hover-fill-color);\n",
              "  }\n",
              "\n",
              "  .colab-df-quickchart-complete:disabled,\n",
              "  .colab-df-quickchart-complete:disabled:hover {\n",
              "    background-color: var(--disabled-bg-color);\n",
              "    fill: var(--disabled-fill-color);\n",
              "    box-shadow: none;\n",
              "  }\n",
              "\n",
              "  .colab-df-spinner {\n",
              "    border: 2px solid var(--fill-color);\n",
              "    border-color: transparent;\n",
              "    border-bottom-color: var(--fill-color);\n",
              "    animation:\n",
              "      spin 1s steps(1) infinite;\n",
              "  }\n",
              "\n",
              "  @keyframes spin {\n",
              "    0% {\n",
              "      border-color: transparent;\n",
              "      border-bottom-color: var(--fill-color);\n",
              "      border-left-color: var(--fill-color);\n",
              "    }\n",
              "    20% {\n",
              "      border-color: transparent;\n",
              "      border-left-color: var(--fill-color);\n",
              "      border-top-color: var(--fill-color);\n",
              "    }\n",
              "    30% {\n",
              "      border-color: transparent;\n",
              "      border-left-color: var(--fill-color);\n",
              "      border-top-color: var(--fill-color);\n",
              "      border-right-color: var(--fill-color);\n",
              "    }\n",
              "    40% {\n",
              "      border-color: transparent;\n",
              "      border-right-color: var(--fill-color);\n",
              "      border-top-color: var(--fill-color);\n",
              "    }\n",
              "    60% {\n",
              "      border-color: transparent;\n",
              "      border-right-color: var(--fill-color);\n",
              "    }\n",
              "    80% {\n",
              "      border-color: transparent;\n",
              "      border-right-color: var(--fill-color);\n",
              "      border-bottom-color: var(--fill-color);\n",
              "    }\n",
              "    90% {\n",
              "      border-color: transparent;\n",
              "      border-bottom-color: var(--fill-color);\n",
              "    }\n",
              "  }\n",
              "</style>\n",
              "\n",
              "  <script>\n",
              "    async function quickchart(key) {\n",
              "      const quickchartButtonEl =\n",
              "        document.querySelector('#' + key + ' button');\n",
              "      quickchartButtonEl.disabled = true;  // To prevent multiple clicks.\n",
              "      quickchartButtonEl.classList.add('colab-df-spinner');\n",
              "      try {\n",
              "        const charts = await google.colab.kernel.invokeFunction(\n",
              "            'suggestCharts', [key], {});\n",
              "      } catch (error) {\n",
              "        console.error('Error during call to suggestCharts:', error);\n",
              "      }\n",
              "      quickchartButtonEl.classList.remove('colab-df-spinner');\n",
              "      quickchartButtonEl.classList.add('colab-df-quickchart-complete');\n",
              "    }\n",
              "    (() => {\n",
              "      let quickchartButtonEl =\n",
              "        document.querySelector('#df-2a161f35-9a22-4c16-96f8-bba2ac8370d4 button');\n",
              "      quickchartButtonEl.style.display =\n",
              "        google.colab.kernel.accessAllowed ? 'block' : 'none';\n",
              "    })();\n",
              "  </script>\n",
              "</div>\n",
              "\n",
              "    </div>\n",
              "  </div>\n"
            ],
            "application/vnd.google.colaboratory.intrinsic+json": {
              "type": "dataframe",
              "variable_name": "df",
              "summary": "{\n  \"name\": \"df\",\n  \"rows\": 6,\n  \"fields\": [\n    {\n      \"column\": \"order_id\",\n      \"properties\": {\n        \"dtype\": \"number\",\n        \"std\": 1,\n        \"min\": 1,\n        \"max\": 6,\n        \"num_unique_values\": 6,\n        \"samples\": [\n          1,\n          2,\n          6\n        ],\n        \"semantic_type\": \"\",\n        \"description\": \"\"\n      }\n    },\n    {\n      \"column\": \"customer_id\",\n      \"properties\": {\n        \"dtype\": \"string\",\n        \"num_unique_values\": 4,\n        \"samples\": [\n          \"C002\",\n          \"C004\",\n          \"C001\"\n        ],\n        \"semantic_type\": \"\",\n        \"description\": \"\"\n      }\n    },\n    {\n      \"column\": \"order_date\",\n      \"properties\": {\n        \"dtype\": \"date\",\n        \"min\": \"2023-08-01 00:00:00\",\n        \"max\": \"2023-08-06 00:00:00\",\n        \"num_unique_values\": 5,\n        \"samples\": [\n          \"2023-08-03 00:00:00\",\n          \"2023-08-06 00:00:00\",\n          \"2023-08-04 00:00:00\"\n        ],\n        \"semantic_type\": \"\",\n        \"description\": \"\"\n      }\n    },\n    {\n      \"column\": \"quantity\",\n      \"properties\": {\n        \"dtype\": \"number\",\n        \"std\": 1,\n        \"min\": 1,\n        \"max\": 5,\n        \"num_unique_values\": 4,\n        \"samples\": [\n          1,\n          5,\n          2\n        ],\n        \"semantic_type\": \"\",\n        \"description\": \"\"\n      }\n    },\n    {\n      \"column\": \"order_unit_price\",\n      \"properties\": {\n        \"dtype\": \"number\",\n        \"std\": 100.73066398404544,\n        \"min\": 9.99,\n        \"max\": 249.99,\n        \"num_unique_values\": 4,\n        \"samples\": [\n          149.99,\n          249.99,\n          19.99\n        ],\n        \"semantic_type\": \"\",\n        \"description\": \"\"\n      }\n    },\n    {\n      \"column\": \"product_name\",\n      \"properties\": {\n        \"dtype\": \"string\",\n        \"num_unique_values\": 4,\n        \"samples\": [\n          \"Gaming Headset\",\n          \"4K Monitor\",\n          \"Wireless Mouse\"\n        ],\n        \"semantic_type\": \"\",\n        \"description\": \"\"\n      }\n    },\n    {\n      \"column\": \"category\",\n      \"properties\": {\n        \"dtype\": \"category\",\n        \"num_unique_values\": 1,\n        \"samples\": [\n          \"Electronics\"\n        ],\n        \"semantic_type\": \"\",\n        \"description\": \"\"\n      }\n    },\n    {\n      \"column\": \"product_unit_price\",\n      \"properties\": {\n        \"dtype\": \"number\",\n        \"std\": 100.73066398404544,\n        \"min\": 9.99,\n        \"max\": 249.99,\n        \"num_unique_values\": 4,\n        \"samples\": [\n          149.99\n        ],\n        \"semantic_type\": \"\",\n        \"description\": \"\"\n      }\n    },\n    {\n      \"column\": \"total_order_price\",\n      \"properties\": {\n        \"dtype\": \"number\",\n        \"std\": 89.31815918389721,\n        \"min\": 19.98,\n        \"max\": 249.99,\n        \"num_unique_values\": 6,\n        \"samples\": [\n          39.98\n        ],\n        \"semantic_type\": \"\",\n        \"description\": \"\"\n      }\n    }\n  ]\n}"
            }
          },
          "metadata": {},
          "execution_count": 12
        }
      ]
    }
  ]
}